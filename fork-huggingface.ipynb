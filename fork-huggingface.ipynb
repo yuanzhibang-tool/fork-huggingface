{
 "cells": [
  {
   "cell_type": "code",
   "execution_count": null,
   "metadata": {},
   "outputs": [],
   "source": [
    "# install py_ait for forking huggingface datasets and models, please read the docs for more details: https://pypi.org/project/py_ait/\n",
    "\n",
    "%pip install py_ait --upgrade"
   ]
  },
  {
   "cell_type": "code",
   "execution_count": null,
   "metadata": {},
   "outputs": [],
   "source": [
    "# set your huggingface username and token\n",
    "\n",
    "%env HF_USERNAME=your_huggingface_username\n",
    "%env HF_TOKEN=your_huggingface_token"
   ]
  },
  {
   "cell_type": "code",
   "execution_count": null,
   "metadata": {},
   "outputs": [],
   "source": [
    "# the cell will be added and input the code when you click the Fork button on the huggingface website which is added by fork_huggingface.js with tampermonkey.\n",
    "# the cell will run automatically after you click the Fork button.\n",
    "# for more details, please read the README.md in the root directory of this repo.\n",
    "\n",
    "!ait-fork --source_repo=BAAI/COIG-PC-Lite --hf_username=$HF_USERNAME --hf_token=$HF_TOKEN --repo_type=dataset"
   ]
  }
 ],
 "metadata": {
  "language_info": {
   "name": "python"
  },
  "orig_nbformat": 4
 },
 "nbformat": 4,
 "nbformat_minor": 2
}
